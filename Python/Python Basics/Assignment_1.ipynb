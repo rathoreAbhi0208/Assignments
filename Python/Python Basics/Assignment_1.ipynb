{
 "cells": [
  {
   "cell_type": "markdown",
   "metadata": {
    "id": "zbxP232jfF44"
   },
   "source": [
    "# Assignment 1 Solutions"
   ]
  },
  {
   "cell_type": "markdown",
   "metadata": {
    "id": "sN40rBE3hiy8"
   },
   "source": [
    "SUBMITTED BY: Abhishek Kumar Singh\n"
   ]
  },
  {
   "cell_type": "markdown",
   "metadata": {
    "id": "msYzNfwQfF47"
   },
   "source": [
    "#### 1. In the below elements which of them are values or an expression? **eg:-** values can be integer or string and expressions will be mathematical operators.  \n",
    "`*`,`'hello'`, `-87.8`,`-`,`/`,`+`,`6`\n",
    "\n",
    "**Operators:** `*`,`-`,`/`,`+`  \n",
    "**Expressions:** `'hello'`, `87.8`, `6`"
   ]
  },
  {
   "cell_type": "markdown",
   "metadata": {
    "id": "2gzKzW7nfF49"
   },
   "source": [
    "#### 2. What is the difference between string and variable?\n",
    "**Ans:** A Variable is used to store of information, and a String is a type of information you would store in a Variable. A variable is created the moment you first assign a value to it. Example: x = 5, y = \"John\". Here x and y are variables.\n",
    "\n",
    "A String is a group of characters or a single character usually enclosed in Double quotes `\" \"` or single quotes `' '`.\n",
    "Even triple quotes can be used in Python but generally used to represent multiline strings and docstrings. Example: my_string = 'Hello'"
   ]
  },
  {
   "cell_type": "markdown",
   "metadata": {
    "id": "ZB1CKvdmfF4-"
   },
   "source": [
    "#### 3. Describe three different Data Types ?\n",
    "**Ans:** Three fundamental Data types in python are `int`, `float`, `complex`.\n",
    "1. **int data type**: int data type is used to represent whole numbers. Example: int_num=100\n",
    "2. **float data type**: float data type is used to represent floating point values (decimal values) Example: flo_num=19.34\n",
    "3. **complex data type**: It is specified as (real part) + (imaginary part)j. Example: com_num=23+3j"
   ]
  },
  {
   "cell_type": "markdown",
   "metadata": {
    "id": "bbwl7sF5fF5A"
   },
   "source": [
    "#### 4. What is an expression made up of? What do all expressions do?\n",
    "**Ans:** An expression is a combination of values, variables, operators, and calls to functions.\n",
    "    Expressions need to be evaluated. If we ask Python to print an expression, the interpreter \n",
    "    evaluates the expression and displays the result. An expression is evaluated as per the precedence of its operators. So that if there is more than one operator in an expression, their precedence decides which operation will be performed first."
   ]
  },
  {
   "cell_type": "markdown",
   "metadata": {
    "id": "UgEgnMmufF5C"
   },
   "source": [
    "#### 5.This assignment statements, like spam = 10. What is the difference between an expression and a statement?\n",
    "**Ans:** An expression is a combination of values, variables, and operators.When we type an expression at the prompt, \n",
    "the interpreter evaluates it, which means that it finds the value of the expression.An expression is evaluated as per the precedence of its operators. So that if there is more than one operator in an expression, their precedence decides which operation will be performed first.\n",
    "\n",
    "**eg:** 5*4+50-50 is an example of a expression\n",
    "\n",
    "A statement is a unit of code that has an effect, like creating a variable or displaying a value.When we type a statement,\n",
    "the interpreter executes it, which means that it does whatever the statement says. In general, statements don’t have values. A statement is an instruction that a Python interpreter can execute. There are mainly four types of statements in Python, Print statements, Assignment statements, Conditional statements and Looping statements.\n",
    "\n",
    "**eg:** courseName = 'Yay!! I am going to be a data scientist', spam = 10"
   ]
  },
  {
   "cell_type": "markdown",
   "metadata": {
    "id": "F8rCcdJ0fF5F"
   },
   "source": [
    "#### 6.After running the following code, what does the variable bacon contain?\n",
    "`bacon = 22`  \n",
    "`bacon + 1`\n",
    "\n",
    "**Ans:** The variable `bacon` is set to `22` .The expression `bacon + 1` does not reassign the value in\n",
    "bacon (that would the case if the expression is like `bacon = bacon + 1` instead of `bacon + 1`)"
   ]
  },
  {
   "cell_type": "markdown",
   "metadata": {
    "id": "Ta6rcXlDfF5G"
   },
   "source": [
    "#### 7.What should the values of the following two terms be?  \n",
    "`'spam'+'spamspam'`  \n",
    "`'spam'*3`\n",
    "\n",
    "**Ans:** Both expressions evaluate to the string **`'spamspamspam'`**\n",
    "Where as the first expression follows `String Concatentation` and the second expression follows `String Multiplication`"
   ]
  },
  {
   "cell_type": "code",
   "execution_count": 1,
   "metadata": {
    "id": "4jytIXx9fF5H",
    "outputId": "03788dd3-75d7-4da3-8357-f536ffdaeb3d"
   },
   "outputs": [
    {
     "name": "stdout",
     "output_type": "stream",
     "text": [
      "spamspamspam\n",
      "spamspamspam\n"
     ]
    }
   ],
   "source": [
    "print('spam'+'spamspam') # string concatenation\n",
    "print('spam'*3) # string multiplication"
   ]
  },
  {
   "cell_type": "markdown",
   "metadata": {
    "id": "D9YUIdbUfF5H"
   },
   "source": [
    "#### 8. Why is eggs a valid variable name while 100 is invalid?\n",
    "**Ans:** As per python,Variable names cannot begin with a number. "
   ]
  },
  {
   "cell_type": "markdown",
   "metadata": {
    "id": "d5wajFYvfF5I"
   },
   "source": [
    "#### 9.What three functions can be used to get the integer,floating-point number,or string version of a value?\n",
    "**Ans:** The `int()`,`float()`,and `str()` functions will evaluate to the integer,floating-point number,string version of the value passed to them."
   ]
  },
  {
   "cell_type": "markdown",
   "metadata": {
    "id": "uAY-Tm9JfF5J"
   },
   "source": [
    "#### 10.Why does this expression cause an error? how can you fix it?  \n",
    "`'I have eaten ' + 99 + 'burritos.'`\n",
    "\n",
    "**Ans:** This cause of error is 99.because 99 is not a string. 99 must be typecasted to a string to fix this error. The correct way of representing is mentioned below:  \n",
    "**Input:** `'I have eaten ' + str(99) + 'burritos.'`  \n",
    "**Output:** `'I have eaten 99 burritos.'`"
   ]
  },
  {
   "cell_type": "code",
   "execution_count": 2,
   "metadata": {
    "id": "DxOOzW2mfF5K",
    "outputId": "ee6c7606-42ab-4e61-be9e-0867a175a936"
   },
   "outputs": [
    {
     "name": "stdout",
     "output_type": "stream",
     "text": [
      "I have eaten 99 burritos\n"
     ]
    }
   ],
   "source": [
    "print('I have eaten '+str(99)+' burritos')"
   ]
  },
  {
   "cell_type": "code",
   "execution_count": null,
   "metadata": {},
   "outputs": [],
   "source": []
  }
 ],
 "metadata": {
  "colab": {
   "collapsed_sections": [],
   "name": "01.Assignment_01.ipynb",
   "provenance": []
  },
  "kernelspec": {
   "display_name": "Python 3",
   "language": "python",
   "name": "python3"
  },
  "language_info": {
   "codemirror_mode": {
    "name": "ipython",
    "version": 3
   },
   "file_extension": ".py",
   "mimetype": "text/x-python",
   "name": "python",
   "nbconvert_exporter": "python",
   "pygments_lexer": "ipython3",
   "version": "3.8.8"
  }
 },
 "nbformat": 4,
 "nbformat_minor": 1
}
