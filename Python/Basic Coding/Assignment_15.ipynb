{
 "cells": [
  {
   "cell_type": "markdown",
   "id": "d7e28fcf",
   "metadata": {},
   "source": [
    "# Programming Assignment 15"
   ]
  },
  {
   "cell_type": "markdown",
   "id": "3ab92850",
   "metadata": {},
   "source": [
    "SUBMITTED BY : Abhishek Kumar Singh"
   ]
  },
  {
   "cell_type": "markdown",
   "id": "12773576",
   "metadata": {},
   "source": [
    "#### 1. Please write a program using generator to print the numbers which can be divisible by 5 and 7 between 0 and n in comma separated form while n is input by console.\n",
    "**Example:**  \n",
    "If the following n is given as input to the program:\n",
    "`100`  \n",
    "Then, the output of the program should be:\n",
    "`0,35,70`"
   ]
  },
  {
   "cell_type": "code",
   "execution_count": 1,
   "id": "f81b6325",
   "metadata": {
    "scrolled": true
   },
   "outputs": [
    {
     "name": "stdout",
     "output_type": "stream",
     "text": [
      "0,35,70\n"
     ]
    }
   ],
   "source": [
    "def Divisible(num):\n",
    "    for ele in range(0,num):\n",
    "        if (ele%5 == 0 ) and (ele%7 == 0):\n",
    "            yield ele\n",
    "values = []            \n",
    "for ele in Divisible(100):\n",
    "    values.append(ele)\n",
    "\n",
    "s = \",\".join([str(i) for i in values])\n",
    "print(s)"
   ]
  },
  {
   "cell_type": "markdown",
   "id": "0626509c",
   "metadata": {},
   "source": [
    "#### 2. Please write a program using generator to print the even numbers between 0 and n in comma separated form while n is input by console.\n",
    "**Example:**\n",
    "If the following n is given as input to the program:\n",
    "`10`  \n",
    "Then, the output of the program should be:\n",
    "`0,2,4,6,8,10`"
   ]
  },
  {
   "cell_type": "code",
   "execution_count": 2,
   "id": "7ab9c8a1",
   "metadata": {},
   "outputs": [
    {
     "name": "stdout",
     "output_type": "stream",
     "text": [
      "0,2,4,6,8,10\n"
     ]
    }
   ],
   "source": [
    "def getEven(rnge):\n",
    "    for ele in range(0,rnge+1):\n",
    "        if ele%2 == 0:\n",
    "            yield ele\n",
    "s = []\n",
    "for ele in getEven(10):\n",
    "    s.append(ele)\n",
    "\n",
    "output = ','.join([str(i) for i in s])\n",
    "print(output)"
   ]
  },
  {
   "cell_type": "markdown",
   "id": "3827756f",
   "metadata": {},
   "source": [
    "#### 3. The Fibonacci Sequence is computed based on the following formula:\n",
    "f(n)=0 if n=0  \n",
    "f(n)=1 if n=1  \n",
    "f(n)=f(n-1)+f(n-2) if n&gt;1\n"
   ]
  },
  {
   "cell_type": "code",
   "execution_count": 3,
   "id": "cef3cc6b",
   "metadata": {},
   "outputs": [
    {
     "name": "stdout",
     "output_type": "stream",
     "text": [
      "[0, 1, 1, 2, 3, 5, 8, 13]\n"
     ]
    }
   ],
   "source": [
    "def getFibonacci(rnge):\n",
    "    if rnge == 0:\n",
    "        return 0\n",
    "    elif rnge ==1:\n",
    "        return 1\n",
    "    else:\n",
    "        return getFibonacci(rnge-1)+getFibonacci(rnge-2)\n",
    "    \n",
    "print([getFibonacci(x) for x in range(8)])"
   ]
  },
  {
   "cell_type": "markdown",
   "id": "61edf41a",
   "metadata": {},
   "source": [
    "#### 4. Assuming that we have some email addresses in the &quot;username@companyname.com&quot; format, please write program to print the user name of a given email address. Both user names and company names are composed of letters only.\n",
    "**Example:**  \n",
    "If the following email address is given as input to the program:\n",
    "`john@google.com`  \n",
    "Then, the output of the program should be:\n",
    "`john`"
   ]
  },
  {
   "cell_type": "code",
   "execution_count": 4,
   "id": "8939c9bb",
   "metadata": {
    "scrolled": true
   },
   "outputs": [
    {
     "name": "stdout",
     "output_type": "stream",
     "text": [
      "Enter Email Address : abhi@gmail.com\n",
      "Username of abhi@gmail.com is abhi\n"
     ]
    }
   ],
   "source": [
    "def getUsernames():\n",
    "    in_str = input(\"Enter Email Address : \")\n",
    "    out_str = in_str.split('@')\n",
    "    print(f'Username of {in_str} is {out_str[0]}')\n",
    "    \n",
    "getUsernames()"
   ]
  },
  {
   "cell_type": "markdown",
   "id": "cd864bac",
   "metadata": {},
   "source": [
    "#### 5.  Define a class named Shape and its subclass Square. The Square class has an init function which takes a length as argument. Both classes have a area function which can print the area of the shape where Shape&#39;s area is 0 by default."
   ]
  },
  {
   "cell_type": "code",
   "execution_count": 7,
   "id": "6c5399e8",
   "metadata": {},
   "outputs": [
    {
     "name": "stdout",
     "output_type": "stream",
     "text": [
      "2500\n"
     ]
    }
   ],
   "source": [
    "class Shape():\n",
    "    def area(self):\n",
    "        return 0\n",
    "    \n",
    "class Square(Shape):\n",
    "    def __init__(self, length):\n",
    "        self.length = length\n",
    "    def area(self):\n",
    "        return self.length*self.length\n",
    "        \n",
    "square = Square(50)\n",
    "print(square.area())"
   ]
  }
 ],
 "metadata": {
  "kernelspec": {
   "display_name": "Python 3",
   "language": "python",
   "name": "python3"
  },
  "language_info": {
   "codemirror_mode": {
    "name": "ipython",
    "version": 3
   },
   "file_extension": ".py",
   "mimetype": "text/x-python",
   "name": "python",
   "nbconvert_exporter": "python",
   "pygments_lexer": "ipython3",
   "version": "3.8.8"
  }
 },
 "nbformat": 4,
 "nbformat_minor": 5
}
