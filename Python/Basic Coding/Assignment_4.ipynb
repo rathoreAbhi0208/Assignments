{
 "cells": [
  {
   "cell_type": "markdown",
   "id": "de0f5a58",
   "metadata": {},
   "source": [
    "# Programming Assignment 4 "
   ]
  },
  {
   "cell_type": "markdown",
   "id": "5496a33d",
   "metadata": {},
   "source": [
    "SUBMITTED BY : Abhishek Kumar Singh"
   ]
  },
  {
   "cell_type": "markdown",
   "id": "11ed08bb",
   "metadata": {},
   "source": [
    "#### 1. Write a Python Program to Find the Factorial of a Number?"
   ]
  },
  {
   "cell_type": "code",
   "execution_count": 1,
   "id": "dba1901a",
   "metadata": {},
   "outputs": [
    {
     "name": "stdout",
     "output_type": "stream",
     "text": [
      "Enter Number : 5\n"
     ]
    },
    {
     "data": {
      "text/plain": [
       "120"
      ]
     },
     "execution_count": 1,
     "metadata": {},
     "output_type": "execute_result"
    }
   ],
   "source": [
    "num = int(input('Enter Number : '))\n",
    "\n",
    "def factorial(n):\n",
    "    fact = 1\n",
    "    if n<0:\n",
    "        print('factorial cant be calculated')\n",
    "    else:\n",
    "        for i in range(1,n+1):\n",
    "            fact*=i\n",
    "    \n",
    "    return fact\n",
    "\n",
    "factorial(num)\n",
    "        "
   ]
  },
  {
   "cell_type": "markdown",
   "id": "72e53ea7",
   "metadata": {},
   "source": [
    "#### 2. Write a Python Program to Display the multiplication Table?"
   ]
  },
  {
   "cell_type": "code",
   "execution_count": 2,
   "id": "86c190dd",
   "metadata": {},
   "outputs": [
    {
     "name": "stdout",
     "output_type": "stream",
     "text": [
      "Enter Number : 3\n",
      "3 * 1 = 3\n",
      "3 * 2 = 6\n",
      "3 * 3 = 9\n",
      "3 * 4 = 12\n",
      "3 * 5 = 15\n",
      "3 * 6 = 18\n",
      "3 * 7 = 21\n",
      "3 * 8 = 24\n",
      "3 * 9 = 27\n",
      "3 * 10 = 30\n"
     ]
    }
   ],
   "source": [
    "num = int(input('Enter Number : '))\n",
    "\n",
    "def mul(nu):\n",
    "    for i in range(1,11):\n",
    "        print(\"{} * {} = {}\".format(num,i,num*i))\n",
    "        \n",
    "mul(num)"
   ]
  },
  {
   "cell_type": "markdown",
   "id": "8eb82975",
   "metadata": {},
   "source": [
    "#### 3. Write a Python Program to Print the Fibonacci sequence?"
   ]
  },
  {
   "cell_type": "code",
   "execution_count": 3,
   "id": "317df7b8",
   "metadata": {},
   "outputs": [
    {
     "name": "stdout",
     "output_type": "stream",
     "text": [
      "Enter Number upto calculate series : 11\n",
      "0  1  1  2  3  5  8  13  21  34  55  "
     ]
    }
   ],
   "source": [
    "num = int(input('Enter Number upto calculate series : '))\n",
    "\n",
    "def fibonacci(n):\n",
    "    f = 0\n",
    "    sec = 1\n",
    "    for i in range(n):\n",
    "        print(f,end = '  ')\n",
    "        nth = f +sec\n",
    "        f = sec\n",
    "        sec = nth\n",
    "\n",
    "fibonacci(num)\n",
    "        "
   ]
  },
  {
   "cell_type": "markdown",
   "id": "094020ec",
   "metadata": {},
   "source": [
    "#### 4. Write a Python Program to Check Armstrong Number?"
   ]
  },
  {
   "cell_type": "code",
   "execution_count": 4,
   "id": "1960eabe",
   "metadata": {},
   "outputs": [
    {
     "name": "stdout",
     "output_type": "stream",
     "text": [
      "Enter Number to be Checked Armstrong : 153\n",
      "153 is a armstrong number\n"
     ]
    }
   ],
   "source": [
    "num = int(input('Enter Number to be Checked Armstrong : '))\n",
    "\n",
    "def check_armstrong(nu):\n",
    "    sum=0\n",
    "    temp=nu\n",
    "    while temp > 0:\n",
    "        digit = temp%10\n",
    "        sum += digit**3\n",
    "        temp//=10\n",
    "        \n",
    "    if nu == sum:\n",
    "        print(nu,'is a armstrong number')\n",
    "    else:\n",
    "        print(nu,'is not a armstrong number')\n",
    "\n",
    "check_armstrong(num)\n"
   ]
  },
  {
   "cell_type": "markdown",
   "id": "a33da293",
   "metadata": {},
   "source": [
    "#### 5. Write a Python Program to Find Armstrong Number in an Interval?"
   ]
  },
  {
   "cell_type": "code",
   "execution_count": 8,
   "id": "426fc356",
   "metadata": {},
   "outputs": [
    {
     "name": "stdout",
     "output_type": "stream",
     "text": [
      "Enter starting : 100\n",
      "Enter End :2000\n",
      "153\n",
      "370\n",
      "371\n",
      "407\n",
      "1634\n"
     ]
    }
   ],
   "source": [
    "start = int(input('Enter starting : '))\n",
    "end = int(input('Enter End :'))\n",
    "\n",
    "def find_arms(start,end):\n",
    "    for i in range(start,end+1):\n",
    "        order = len(str(i))\n",
    "        sum = 0\n",
    "        temp = i\n",
    "        while temp >0:\n",
    "            digit = temp%10\n",
    "            sum += (digit**order)\n",
    "            temp//=10\n",
    "        if i == sum:\n",
    "            print(i)\n",
    "        \n",
    "find_arms(start,end)"
   ]
  },
  {
   "cell_type": "markdown",
   "id": "112a616d",
   "metadata": {},
   "source": [
    "#### 6. Write a Python Program to Find the Sum of Natural Numbers?"
   ]
  },
  {
   "cell_type": "code",
   "execution_count": 10,
   "id": "9f5aa42c",
   "metadata": {},
   "outputs": [
    {
     "name": "stdout",
     "output_type": "stream",
     "text": [
      "Enter N upto which sum has to be calculated : 10\n"
     ]
    },
    {
     "data": {
      "text/plain": [
       "55.0"
      ]
     },
     "execution_count": 10,
     "metadata": {},
     "output_type": "execute_result"
    }
   ],
   "source": [
    "num = int(input('Enter N upto which sum has to be calculated : '))\n",
    "def sum_natural(num):\n",
    "    sum = (num*(num+1))/2\n",
    "    return sum\n",
    "\n",
    "sum_natural(num)"
   ]
  }
 ],
 "metadata": {
  "kernelspec": {
   "display_name": "Python 3",
   "language": "python",
   "name": "python3"
  },
  "language_info": {
   "codemirror_mode": {
    "name": "ipython",
    "version": 3
   },
   "file_extension": ".py",
   "mimetype": "text/x-python",
   "name": "python",
   "nbconvert_exporter": "python",
   "pygments_lexer": "ipython3",
   "version": "3.8.8"
  }
 },
 "nbformat": 4,
 "nbformat_minor": 5
}
