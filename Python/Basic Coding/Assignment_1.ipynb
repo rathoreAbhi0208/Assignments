{
 "cells": [
  {
   "cell_type": "markdown",
   "id": "8322469e",
   "metadata": {},
   "source": [
    "# Programming Assignment 1"
   ]
  },
  {
   "cell_type": "markdown",
   "id": "019b7be7",
   "metadata": {},
   "source": [
    "SUBMITTED BY : Abhishek Kumar Singh"
   ]
  },
  {
   "cell_type": "markdown",
   "id": "1cf85a75",
   "metadata": {},
   "source": [
    "#### 1. Write a Python program to print &quot;Hello Python&quot;?"
   ]
  },
  {
   "cell_type": "code",
   "execution_count": 1,
   "id": "6b67583a",
   "metadata": {},
   "outputs": [
    {
     "name": "stdout",
     "output_type": "stream",
     "text": [
      "Hello Python\n"
     ]
    }
   ],
   "source": [
    "print('Hello Python')"
   ]
  },
  {
   "cell_type": "markdown",
   "id": "993a932a",
   "metadata": {},
   "source": [
    "#### 2. Write a Python program to do arithmetical operations addition and division.?"
   ]
  },
  {
   "cell_type": "code",
   "execution_count": 6,
   "id": "0db49e39",
   "metadata": {},
   "outputs": [
    {
     "name": "stdout",
     "output_type": "stream",
     "text": [
      "Select Operator :         \n",
      "1. Addition(+)         \n",
      "2. Division(/)\n",
      "Enter Operator :/\n",
      "Enter First Num:6\n",
      "Enter Second Num:7\n",
      "6/7=0.8571428571428571\n",
      "\n"
     ]
    }
   ],
   "source": [
    "import operator\n",
    "ops = {\"+\":operator.add,\"/\":operator.truediv}\n",
    "print('Select Operator : \\\n",
    "        \\n1. Addition(+) \\\n",
    "        \\n2. Division(/)')\n",
    "\n",
    "operator = input('Enter Operator :')\n",
    "    \n",
    "\n",
    "    \n",
    "if operator not in ['+','/']:\n",
    "    print('Select Valid Operator')\n",
    "        \n",
    "else:\n",
    "    num1 = int(input('Enter First Num:'))\n",
    "    num2 = int(input('Enter Second Num:'))\n",
    "    print('{}{}{}={}\\n'.format(num1,operator,num2,ops[operator](num1,num2)))"
   ]
  },
  {
   "cell_type": "markdown",
   "id": "afd00364",
   "metadata": {},
   "source": [
    "#### 3. Write a Python program to find the area of a triangle?"
   ]
  },
  {
   "cell_type": "code",
   "execution_count": 8,
   "id": "ceb70045",
   "metadata": {},
   "outputs": [
    {
     "name": "stdout",
     "output_type": "stream",
     "text": [
      "Enter Height of Traingle:23\n",
      "Enter Base of Triangle:43\n"
     ]
    },
    {
     "data": {
      "text/plain": [
       "494.5"
      ]
     },
     "execution_count": 8,
     "metadata": {},
     "output_type": "execute_result"
    }
   ],
   "source": [
    "height = int(input('Enter Height of Traingle:'))\n",
    "base = int(input('Enter Base of Triangle:'))\n",
    "\n",
    "def area_tri(height,base):\n",
    "    return 0.5*base*height\n",
    "\n",
    "area_tri(height,base)"
   ]
  },
  {
   "cell_type": "markdown",
   "id": "69f0cf1b",
   "metadata": {},
   "source": [
    "#### 4. Write a Python program to swap two variables?"
   ]
  },
  {
   "cell_type": "code",
   "execution_count": 12,
   "id": "bf4bb27f",
   "metadata": {},
   "outputs": [
    {
     "name": "stdout",
     "output_type": "stream",
     "text": [
      "Enter Num1:12\n",
      "Enter Num2:23\n",
      "Before Swapping -> 12 23\n",
      "After Swapping -> 23 12\n"
     ]
    }
   ],
   "source": [
    "num1 = int(input('Enter Num1:'))\n",
    "num2 = int(input('Enter Num2:'))\n",
    "\n",
    "def swap(a,b):\n",
    "    temp = a\n",
    "    a=b\n",
    "    b = temp\n",
    "    return a,b\n",
    "\n",
    "print('Before Swapping ->',num1,num2)\n",
    "num1,num2 = swap(num1,num2)\n",
    "print('After Swapping ->',num1,num2)"
   ]
  },
  {
   "cell_type": "markdown",
   "id": "dec449b6",
   "metadata": {},
   "source": [
    "#### 5. Write a Python program to generate a random number?"
   ]
  },
  {
   "cell_type": "code",
   "execution_count": 18,
   "id": "bcc0a4e7",
   "metadata": {},
   "outputs": [
    {
     "name": "stdout",
     "output_type": "stream",
     "text": [
      "Random Number :  2\n"
     ]
    }
   ],
   "source": [
    "from random import randint\n",
    "\n",
    "def genRandom(start=0,end=100000):\n",
    "    print('Random Number : ',randint(start,end))\n",
    "    \n",
    "genRandom(0,10)"
   ]
  }
 ],
 "metadata": {
  "kernelspec": {
   "display_name": "Python 3",
   "language": "python",
   "name": "python3"
  },
  "language_info": {
   "codemirror_mode": {
    "name": "ipython",
    "version": 3
   },
   "file_extension": ".py",
   "mimetype": "text/x-python",
   "name": "python",
   "nbconvert_exporter": "python",
   "pygments_lexer": "ipython3",
   "version": "3.8.8"
  }
 },
 "nbformat": 4,
 "nbformat_minor": 5
}
