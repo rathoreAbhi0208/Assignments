{
 "cells": [
  {
   "cell_type": "markdown",
   "id": "5a0da69c",
   "metadata": {},
   "source": [
    "# Programming Asignment 2"
   ]
  },
  {
   "cell_type": "markdown",
   "id": "527fe3b9",
   "metadata": {},
   "source": [
    "SUBMITTED BY : Abhishek Kumar Singh"
   ]
  },
  {
   "cell_type": "markdown",
   "id": "7b1c411c",
   "metadata": {},
   "source": [
    "#### 1. Write a Python program to convert kilometers to miles?"
   ]
  },
  {
   "cell_type": "code",
   "execution_count": 19,
   "id": "17627cf2",
   "metadata": {},
   "outputs": [
    {
     "name": "stdout",
     "output_type": "stream",
     "text": [
      "Enter KM :1\n",
      "The Eqivalent mile is: 0.621\n"
     ]
    }
   ],
   "source": [
    "km = int(input('Enter KM :'))\n",
    "\n",
    "def km_to_mile(km):\n",
    "    return km*0.621\n",
    "\n",
    "print('The Eqivalent mile is: {}'.format(km_to_mile(km)))"
   ]
  },
  {
   "cell_type": "markdown",
   "id": "455a5503",
   "metadata": {},
   "source": [
    "#### 2. Write a Python program to convert Celsius to Fahrenheit?"
   ]
  },
  {
   "cell_type": "code",
   "execution_count": 17,
   "id": "d480a146",
   "metadata": {},
   "outputs": [
    {
     "name": "stdout",
     "output_type": "stream",
     "text": [
      "Enter Celcius : 0\n"
     ]
    },
    {
     "data": {
      "text/plain": [
       "32.0"
      ]
     },
     "execution_count": 17,
     "metadata": {},
     "output_type": "execute_result"
    }
   ],
   "source": [
    "cel = int(input('Enter Celcius : '))\n",
    "\n",
    "def celcius_to_far(cel):\n",
    "    return (cel*(9/5))+32\n",
    "\n",
    "celcius_to_far(cel)"
   ]
  },
  {
   "cell_type": "markdown",
   "id": "a1555bb5",
   "metadata": {},
   "source": [
    "#### 3. Write a Python program to display calendar?"
   ]
  },
  {
   "cell_type": "code",
   "execution_count": 29,
   "id": "7fe9d946",
   "metadata": {},
   "outputs": [
    {
     "name": "stdout",
     "output_type": "stream",
     "text": [
      "Enter Year :2022\n",
      "Enter Month Number:8\n",
      "\n",
      "     August 2022\n",
      "Mo Tu We Th Fr Sa Su\n",
      " 1  2  3  4  5  6  7\n",
      " 8  9 10 11 12 13 14\n",
      "15 16 17 18 19 20 21\n",
      "22 23 24 25 26 27 28\n",
      "29 30 31\n",
      "\n"
     ]
    }
   ],
   "source": [
    "import calendar\n",
    "year = int(input('Enter Year :'))\n",
    "month = int(input('Enter Month Number:'))\n",
    "\n",
    "print('\\n',calendar.month(year,month))"
   ]
  },
  {
   "cell_type": "markdown",
   "id": "5c89ac08",
   "metadata": {},
   "source": [
    "#### 4. Write a Python program to solve quadratic equation?"
   ]
  },
  {
   "cell_type": "code",
   "execution_count": 52,
   "id": "068dfc50",
   "metadata": {},
   "outputs": [
    {
     "name": "stdout",
     "output_type": "stream",
     "text": [
      "Enter a:1\n",
      "Enter b:-5\n",
      "Enter c:6\n",
      "Roots are real and Different 3.0 2.0\n"
     ]
    }
   ],
   "source": [
    "import cmath\n",
    "import math\n",
    "\n",
    "def quad_eqn(a,b,c):\n",
    "    disc = (b*b)-(4*a*c)\n",
    "    \n",
    "    if disc==0:\n",
    "        r1 = -b/(2*a)\n",
    "        r2 = -b/(2*a)\n",
    "        print('Roots are real and Equal',r1,r2)\n",
    "    \n",
    "    elif disc>0:\n",
    "        r1 = ((-b)+(math.sqrt(disc)))/(2*a)\n",
    "        r2 = ((-b)-(math.sqrt(disc)))/(2*a)\n",
    "        print('Roots are real and Different',r1,r2)\n",
    "        \n",
    "    else:\n",
    "        r1 = -((-b)+(cmath.sqrt(disc)))/(2*a)\n",
    "        r2 = -((-b)-(cmath.sqrt(disc)))/(2*a)\n",
    "        print('Roots are Imaginary',r1,r2)\n",
    "        \n",
    "a = int(input('Enter a:'))\n",
    "b = int(input('Enter b:'))\n",
    "c = int(input('Enter c:'))\n",
    "\n",
    "quad_eqn(a,b,c)\n",
    "        "
   ]
  },
  {
   "cell_type": "markdown",
   "id": "ab4563b0",
   "metadata": {},
   "source": [
    "#### 5. Write a Python program to swap two variables without temp variable?"
   ]
  },
  {
   "cell_type": "code",
   "execution_count": 58,
   "id": "96495a88",
   "metadata": {},
   "outputs": [
    {
     "name": "stdout",
     "output_type": "stream",
     "text": [
      "Enter Num1 :23\n",
      "Enter Num2 :54\n",
      "Numbers before swapping : 23 54\n",
      "Numbers After Swap 54 23\n"
     ]
    }
   ],
   "source": [
    "num1 = int(input('Enter Num1 :'))\n",
    "num2 = int(input('Enter Num2 :'))\n",
    "\n",
    "def swap_num(num1,num2):\n",
    "    num1 = num1 + num2\n",
    "    num2 = num1 - num2\n",
    "    num1 = num1-num2\n",
    "    print('Numbers After Swap',num1,num2)\n",
    "    \n",
    "print('Numbers before swapping :',num1,num2)\n",
    "swap_num(num1,num2)"
   ]
  }
 ],
 "metadata": {
  "kernelspec": {
   "display_name": "Python 3",
   "language": "python",
   "name": "python3"
  },
  "language_info": {
   "codemirror_mode": {
    "name": "ipython",
    "version": 3
   },
   "file_extension": ".py",
   "mimetype": "text/x-python",
   "name": "python",
   "nbconvert_exporter": "python",
   "pygments_lexer": "ipython3",
   "version": "3.8.8"
  }
 },
 "nbformat": 4,
 "nbformat_minor": 5
}
