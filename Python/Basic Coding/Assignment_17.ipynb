{
 "cells": [
  {
   "cell_type": "markdown",
   "id": "d2529915",
   "metadata": {},
   "source": [
    "# Programmimg Assignment 17"
   ]
  },
  {
   "cell_type": "markdown",
   "id": "b1803c95",
   "metadata": {},
   "source": [
    "SUBMITTED BY : Abhishek Kumar Singh"
   ]
  },
  {
   "cell_type": "markdown",
   "id": "ae164fba",
   "metadata": {},
   "source": [
    "#### Question1. Create a function that takes three arguments a, b, c and returns the sum of the numbers that are evenly divided by c from the range a, b inclusive.\n",
    "**Examples**\n",
    "`evenly_divisible(1, 10, 20) ➞ 0  \n",
    "    # No number between 1 and 10 can be evenly divided by 20.  \n",
    "evenly_divisible(1, 10, 2) ➞ 30  \n",
    "    # 2 + 4 + 6 + 8 + 10 = 30\n",
    "evenly_divisible(1, 10, 3) ➞ 18\n",
    "    # 3 + 6 + 9 = 18`"
   ]
  },
  {
   "cell_type": "code",
   "execution_count": 2,
   "id": "eac056b3",
   "metadata": {},
   "outputs": [
    {
     "name": "stdout",
     "output_type": "stream",
     "text": [
      "(1, 10, 20) --> 0\n",
      "(1, 10, 2) --> 30\n",
      "(1, 10, 3) --> 18\n"
     ]
    }
   ],
   "source": [
    "def evenDivisible(a,b,c):\n",
    "    divList = []\n",
    "    for num in range(a,b+1):\n",
    "        if num%c == 0:\n",
    "            divList.append(num)\n",
    "    print(f'{a,b,c} --> {sum(divList)}')\n",
    "    \n",
    "evenDivisible(1,10,20)\n",
    "evenDivisible(1,10,2)\n",
    "evenDivisible(1,10,3)"
   ]
  },
  {
   "cell_type": "markdown",
   "id": "a1323d40",
   "metadata": {},
   "source": [
    "#### Question2. Create a function that returns True if a given inequality expression is correct and False otherwise.\n",
    "**Examples**  \n",
    "`correct_signs(\"3 < 7 < 11\") ➞ True`  \n",
    "`correct_signs(\"13 > 44 > 33 > 1\") ➞ False`  \n",
    "`correct_signs(\"1 < 2 < 6 < 9 > 3\") ➞ True` "
   ]
  },
  {
   "cell_type": "code",
   "execution_count": 9,
   "id": "65288d3e",
   "metadata": {},
   "outputs": [
    {
     "name": "stdout",
     "output_type": "stream",
     "text": [
      "ENter The Inequality : 3<7<11\n",
      "3<7<11  --> True\n",
      "ENter The Inequality : 1>5<7\n",
      "1>5<7  --> False\n",
      "ENter The Inequality : 1<3<5<67\n",
      "1<3<5<67  --> True\n"
     ]
    }
   ],
   "source": [
    "def checkEquality():\n",
    "    in_str = input('ENter The Inequality : ')\n",
    "    out_bool = eval(in_str)\n",
    "    print(f'{in_str}  --> {out_bool}')\n",
    "    \n",
    "for x in range(3):\n",
    "    checkEquality()"
   ]
  },
  {
   "cell_type": "markdown",
   "id": "7c92df96",
   "metadata": {},
   "source": [
    "#### Question3. Create a function that replaces all the vowels in a string with a specified character.\n",
    "**Examples**    \n",
    "`replace_vowels(\"the aardvark\", \"#\") ➞ \"th# ##rdv#rk\"`  \n",
    "`replace_vowels(\"minnie mouse\", \"?\") ➞ \"m?nn?? m??s?\"`  \n",
    "`replace_vowels(\"shakespeare\", \"*\") ➞ \"shksp**r\"`\n",
    "  "
   ]
  },
  {
   "cell_type": "code",
   "execution_count": 5,
   "id": "636a55a6",
   "metadata": {},
   "outputs": [
    {
     "name": "stdout",
     "output_type": "stream",
     "text": [
      "Enter String: the aardvark\n",
      "Reaplacement Char : #\n",
      "the aardvark #  -->  th# ##rdv#rk\n",
      "Enter String: minnie mouse\n",
      "Reaplacement Char : ?\n",
      "minnie mouse ?  -->  m?nn?? m??s?\n",
      "Enter String: shakespeare\n",
      "Reaplacement Char : *\n",
      "shakespeare *  -->  sh*k*sp**r*\n"
     ]
    }
   ],
   "source": [
    "def replaceVowels():\n",
    "    vowels = ['a','e','i','o','u','A','E','I','O','U']\n",
    "    inp_str = input(\"Enter String: \")\n",
    "    inp_str_cpy = inp_str\n",
    "    in_char  = input('Reaplacement Char : ')\n",
    "    for ele in inp_str:\n",
    "        if ele in vowels:\n",
    "            inp_str = inp_str.replace(ele,in_char)\n",
    "    print(f'{inp_str_cpy} {in_char}  -->  {inp_str}')\n",
    "    \n",
    "for x in range(3):\n",
    "    replaceVowels()"
   ]
  },
  {
   "cell_type": "markdown",
   "id": "8cfc9b90",
   "metadata": {},
   "source": [
    "#### 4.Write a function that calculates the factorial of a number recursively ?\n",
    "**Examples:**  \n",
    "`factorial(5) ➞ 120`  \n",
    "`factorial(3) ➞ 6`  \n",
    "`factorial(1) ➞ 1`  \n",
    "`factorial(0) ➞ 1`  "
   ]
  },
  {
   "cell_type": "code",
   "execution_count": 10,
   "id": "6ab38c0b",
   "metadata": {
    "scrolled": true
   },
   "outputs": [
    {
     "name": "stdout",
     "output_type": "stream",
     "text": [
      "factorial(5) --> 120\n",
      "factorial(3) --> 6\n",
      "factorial(1)  --> 1\n",
      "factorial(0) ---> 1\n"
     ]
    }
   ],
   "source": [
    "def factorial(n):\n",
    "    if n==0:\n",
    "        return 1\n",
    "    return n*factorial(n-1)\n",
    "\n",
    "print(f'factorial(5) --> {factorial(5)}')\n",
    "print(f'factorial(3) --> {factorial(3)}')\n",
    "print(f'factorial(1)  --> {factorial(1)}')\n",
    "print(f'factorial(0) ---> {factorial(0)}')"
   ]
  },
  {
   "cell_type": "markdown",
   "id": "02cc5a65",
   "metadata": {},
   "source": [
    "#### 5.Hamming distance is the number of characters that differ between two strings ?\n",
    "To illustrate:  \n",
    "    `String1: \"abcbba\"`  \n",
    "    `String2: \"abcbda\"`  \n",
    "Hamming Distance: 1 - \"b\" vs. \"d\" is the only difference.  \n",
    "Create a function that computes the hamming distance between two strings.  \n",
    "**Examples:**  \n",
    "`hamming_distance(\"abcde\", \"bcdef\") ➞ 5`  \n",
    "`hamming_distance(\"abcde\", \"abcde\") ➞ 0`  \n",
    "`hamming_distance(\"strong\", \"strung\") ➞ 1`  "
   ]
  },
  {
   "cell_type": "code",
   "execution_count": 13,
   "id": "c1f99ed4",
   "metadata": {},
   "outputs": [
    {
     "name": "stdout",
     "output_type": "stream",
     "text": [
      "Enter String 1 : abcde\n",
      "Enter String 2 :bcdef\n",
      "Hamming Distance b/w abcde and bcdef --> 5\n",
      "Enter String 1 : abcde\n",
      "Enter String 2 :abcde\n",
      "Hamming Distance b/w abcde and abcde --> 0\n",
      "Enter String 1 : string\n",
      "Enter String 2 :strung\n",
      "Hamming Distance b/w string and strung --> 1\n"
     ]
    }
   ],
   "source": [
    "def genHamDistance():\n",
    "    inp_str1 = input('Enter String 1 : ')\n",
    "    inp_str2 = input('Enter String 2 :')\n",
    "    if len(inp_str1) == len(inp_str2):\n",
    "        count=0\n",
    "        for i in range(len(inp_str1)):\n",
    "            if inp_str1[i] !=inp_str2[i]:\n",
    "                count+=1\n",
    "        print(f'Hamming Distance b/w {inp_str1} and {inp_str2} --> {count}')\n",
    "    else:\n",
    "        print('Both String must be of same length')\n",
    "              \n",
    "for x in range(3):\n",
    "              genHamDistance()"
   ]
  }
 ],
 "metadata": {
  "kernelspec": {
   "display_name": "Python 3",
   "language": "python",
   "name": "python3"
  },
  "language_info": {
   "codemirror_mode": {
    "name": "ipython",
    "version": 3
   },
   "file_extension": ".py",
   "mimetype": "text/x-python",
   "name": "python",
   "nbconvert_exporter": "python",
   "pygments_lexer": "ipython3",
   "version": "3.8.8"
  }
 },
 "nbformat": 4,
 "nbformat_minor": 5
}
