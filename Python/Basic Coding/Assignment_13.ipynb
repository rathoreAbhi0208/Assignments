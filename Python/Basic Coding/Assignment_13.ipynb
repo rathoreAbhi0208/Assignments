{
 "cells": [
  {
   "cell_type": "markdown",
   "id": "29a1ad5d",
   "metadata": {},
   "source": [
    "# Programming Assignment 13 "
   ]
  },
  {
   "cell_type": "markdown",
   "id": "8d91b0d1",
   "metadata": {},
   "source": [
    "SUBMITTED BY : Abhishek Kumar Singh"
   ]
  },
  {
   "cell_type": "markdown",
   "id": "aa5ae46c",
   "metadata": {},
   "source": [
    "#### 1.  Write a program that calculates and prints the value according to the given formula:\n",
    "`Q = Square root of [(2 * C * D)/H]`                                                                                       \n",
    "Following are the fixed values of C and H:  \n",
    "C is 50. H is 30.  \n",
    "D is the variable whose values should be input to your program in a comma-separated sequence.  \n",
    "**Example:** Let us assume the following comma separated input sequence is given to the program:`100,150,180`  \n",
    "The output of the program should be:  `18,22,24`   \n",
    "\n"
   ]
  },
  {
   "cell_type": "code",
   "execution_count": 6,
   "id": "f0a28516",
   "metadata": {},
   "outputs": [
    {
     "name": "stdout",
     "output_type": "stream",
     "text": [
      "Enter the Input :100,200,300\n",
      "Output: 18,25,31\n"
     ]
    }
   ],
   "source": [
    "from math import sqrt\n",
    "def calculate():\n",
    "    inp = eval(input(\"Enter the Input :\"))\n",
    "    output = []\n",
    "    C = 50\n",
    "    H = 30\n",
    "    for ele in inp:\n",
    "        Q = str(int(sqrt((2*C*ele)/H)))\n",
    "        output.append(Q)\n",
    "    print(\"Output: {}\".format(','.join(output)))\n",
    "    \n",
    "calculate()"
   ]
  },
  {
   "cell_type": "markdown",
   "id": "aa378e77",
   "metadata": {},
   "source": [
    "#### 2. Write a program which takes 2 digits, X,Y as input and generates a 2-dimensional array. The element value in the i-th row and j-th column of the array should be i*j.\n",
    "`Note: i=0,1.., X-1; j=0,1,¡Y-1.`                                                                                          \n",
    "**Example :** Suppose the following inputs are given to the program:\n",
    "3,5\n",
    "Then, the output of the program should be:\n",
    "`[[0, 0, 0, 0, 0], [0, 1, 2, 3, 4], [0, 2, 4, 6, 8]]`"
   ]
  },
  {
   "cell_type": "code",
   "execution_count": 10,
   "id": "2a79e229",
   "metadata": {},
   "outputs": [
    {
     "name": "stdout",
     "output_type": "stream",
     "text": [
      "Enter No of rows:4\n",
      "Ente No of columns:8\n",
      "[[0, 0, 0, 0, 0, 0, 0, 0], [0, 1, 2, 3, 4, 5, 6, 7], [0, 2, 4, 6, 8, 10, 12, 14], [0, 3, 6, 9, 12, 15, 18, 21]]\n"
     ]
    }
   ],
   "source": [
    "import array as arr\n",
    "def generateArray():\n",
    "    inp_x = int(input('Enter No of rows:'))\n",
    "    inp_y = int(input(\"Ente No of columns:\"))\n",
    "    out_arr = []\n",
    "    for ele in range(inp_x):\n",
    "        out_arr.insert(inp_x,[])\n",
    "        for sub_ele in range(inp_y):\n",
    "            out_arr[ele].append(ele*sub_ele)\n",
    "    print(out_arr)\n",
    "    \n",
    "generateArray()"
   ]
  },
  {
   "cell_type": "markdown",
   "id": "304f5144",
   "metadata": {},
   "source": [
    "#### 3. Write a program that accepts a comma separated sequence of words as input and prints the words in a comma-separated sequence after sorting them alphabetically.\n",
    "\n",
    "Suppose the following input is supplied to the program: \n",
    "`without,hello,bag,world`   \n",
    "Then, the output should be:\n",
    "`bag,hello,without,world`\n"
   ]
  },
  {
   "cell_type": "code",
   "execution_count": 18,
   "id": "685bcca8",
   "metadata": {
    "scrolled": true
   },
   "outputs": [
    {
     "name": "stdout",
     "output_type": "stream",
     "text": [
      "Enter The Input String : without,hello,bag,world\n",
      "Output: bag,hello,without,world\n"
     ]
    }
   ],
   "source": [
    "def sortString():\n",
    "    inp_str = input('Enter The Input String : ')\n",
    "    out_str = ','.join(sorted(inp_str.split(',')))\n",
    "    print(f'Output: {out_str}')\n",
    "\n",
    "sortString()"
   ]
  },
  {
   "cell_type": "markdown",
   "id": "c4e3aa9e",
   "metadata": {},
   "source": [
    "#### 4. Write a program that accepts a sequence of whitespace separated words as input and prints the words after removing all duplicate words and sorting them alphanumerically.\n",
    "Suppose the following input is supplied to the program:\n",
    "`hello world and practice makes perfect and hello world again`  \n",
    "Then, the output should be:\n",
    "`again and hello makes perfect practice world`\n"
   ]
  },
  {
   "cell_type": "code",
   "execution_count": 21,
   "id": "9090e846",
   "metadata": {
    "scrolled": true
   },
   "outputs": [
    {
     "name": "stdout",
     "output_type": "stream",
     "text": [
      "Enter Input String : hello world and practice makes perfect and hello world again\n",
      "Output : hello world and practice makes perfect and hello world again\n"
     ]
    }
   ],
   "source": [
    "def sortAlphaNumerically():\n",
    "    inp_str = input(\"Enter Input String : \")\n",
    "    out_str = ','.join(sorted(sorted(list(set(inp_str.split(','))))))\n",
    "    print(f'Output : {out_str}')\n",
    "    \n",
    "sortAlphaNumerically()"
   ]
  },
  {
   "cell_type": "markdown",
   "id": "efc7d46d",
   "metadata": {},
   "source": [
    "#### 5. Write a program that accepts a sentence and calculate the number of letters and digits.\n",
    "Suppose the following input is supplied to the program:\n",
    "`hello world! 123`  \n",
    "Then, the output should be:  \n",
    "`LETTERS 10`  \n",
    "`DIGITS 3`"
   ]
  },
  {
   "cell_type": "code",
   "execution_count": 27,
   "id": "8d0a933b",
   "metadata": {},
   "outputs": [
    {
     "name": "stdout",
     "output_type": "stream",
     "text": [
      "Enter String : hello world! 123\n",
      "LETTERS 10\n",
      "DIGITS 3\n"
     ]
    }
   ],
   "source": [
    "def counts():\n",
    "    inp_string = input('Enter String : ')\n",
    "    l = d = 0\n",
    "    for ele in inp_string:\n",
    "        if ele.isdigit():\n",
    "            d+=1\n",
    "        elif ele.isalpha():\n",
    "            l+=1\n",
    "        else:\n",
    "            pass\n",
    "    print('LETTERS',l)\n",
    "    print('DIGITS', d)\n",
    "\n",
    "counts()"
   ]
  },
  {
   "cell_type": "markdown",
   "id": "190f8d37",
   "metadata": {},
   "source": [
    "#### 6. A website requires the users to input username and password to register. Write a program to check the validity of password input by users.\n",
    "Following are the criteria for checking the password:  \n",
    "1. At least 1 letter between [a-z]\n",
    "2. At least 1 number between [0-9]\n",
    "1. At least 1 letter between [A-Z]\n",
    "3. At least 1 character from [$#@]\n",
    "4. Minimum length of transaction password: 6\n",
    "5. Maximum length of transaction password: 12  \n",
    "\n",
    "Your program should accept a sequence of comma separated passwords and will check them\n",
    "according to the above criteria. Passwords that match the criteria are to be printed, each\n",
    "separated by a comma.\n",
    "\n",
    "Example  \n",
    "If the following passwords are given as input to the program:\n",
    "`ABd1234@1,a F1#,2w3E*,2We3345`  \n",
    "Then, the output of the program should be: \n",
    "`ABd1234@1`"
   ]
  },
  {
   "cell_type": "code",
   "execution_count": 43,
   "id": "02df84f1",
   "metadata": {},
   "outputs": [
    {
     "name": "stdout",
     "output_type": "stream",
     "text": [
      "Enter Input String : ABd1234@1,a F1#,2w3E*,2We3345\n",
      "ABd1234@1\n"
     ]
    }
   ],
   "source": [
    "import string\n",
    "def checkPass():\n",
    "    inp_str = input(\"Enter Input String : \")\n",
    "    special_lst = '$#@'\n",
    "    for ele in inp_str.split(','):\n",
    "        if len(ele)<=12 and len(ele)>=6:\n",
    "            if any(i.isupper() for i in ele):\n",
    "                if any(i.isnumeric() for i in ele):\n",
    "                    if any(i.islower() for i in ele):\n",
    "                        if any(i for i in ele if i in special_lst):\n",
    "                            print(ele)\n",
    "        \n",
    "checkPass()\n",
    "    "
   ]
  }
 ],
 "metadata": {
  "kernelspec": {
   "display_name": "Python 3",
   "language": "python",
   "name": "python3"
  },
  "language_info": {
   "codemirror_mode": {
    "name": "ipython",
    "version": 3
   },
   "file_extension": ".py",
   "mimetype": "text/x-python",
   "name": "python",
   "nbconvert_exporter": "python",
   "pygments_lexer": "ipython3",
   "version": "3.8.8"
  }
 },
 "nbformat": 4,
 "nbformat_minor": 5
}
