{
 "cells": [
  {
   "cell_type": "markdown",
   "id": "d003d5fb",
   "metadata": {},
   "source": [
    "# Programming Assignment 12"
   ]
  },
  {
   "cell_type": "markdown",
   "id": "b2d02ee5",
   "metadata": {},
   "source": [
    "SUBMITTED BY : Abhishek Kumar Singh"
   ]
  },
  {
   "cell_type": "markdown",
   "id": "f7522103",
   "metadata": {},
   "source": [
    "#### 1. Write a Python program to Extract Unique values dictionary values?"
   ]
  },
  {
   "cell_type": "code",
   "execution_count": 6,
   "id": "85bc3266",
   "metadata": {},
   "outputs": [
    {
     "name": "stdout",
     "output_type": "stream",
     "text": [
      "The original dictionary is :  {'Abhi': [45, 69, 76, 18], 'sandy': [10, 101, 76, 45], 'harsh': [6, 12, 10, 8], 'rahul': [10, 12, 65]}\n",
      "\n",
      "The unique values list is : [6, 8, 10, 12, 18, 45, 65, 69, 76, 101]\n"
     ]
    }
   ],
   "source": [
    "test_dict = {'Abhi' : [45, 69, 76, 18],\n",
    "             'sandy' : [10, 101, 76, 45],\n",
    "             'harsh' : [6, 12, 10, 8],\n",
    "             'rahul' : [10, 12, 65]}\n",
    "\n",
    "print(\"The original dictionary is : \" ,str(test_dict))\n",
    " \n",
    "result = list(sorted({element for val in test_dict.values() for element in val}))\n",
    " \n",
    "\n",
    "print(\"\\nThe unique values list is : \" + str(result))"
   ]
  },
  {
   "cell_type": "markdown",
   "id": "b8524e85",
   "metadata": {},
   "source": [
    "#### 2. Write a Python program to find the sum of all items in a dictionary?"
   ]
  },
  {
   "cell_type": "code",
   "execution_count": 2,
   "id": "a5d7ab3a",
   "metadata": {},
   "outputs": [
    {
     "name": "stdout",
     "output_type": "stream",
     "text": [
      "Sum : 600\n"
     ]
    }
   ],
   "source": [
    "def returnSum(myDict):\n",
    " \n",
    "    list = []\n",
    "    for i in myDict:\n",
    "        list.append(myDict[i])\n",
    "    final = sum(list)\n",
    " \n",
    "    return final\n",
    " \n",
    " \n",
    "# Driver Function\n",
    "dict = {'a': 100, 'b': 200, 'c': 300}\n",
    "print(\"Sum :\", returnSum(dict))"
   ]
  },
  {
   "cell_type": "markdown",
   "id": "b1a16cfa",
   "metadata": {},
   "source": [
    "#### 3. Write a Python program to Merging two Dictionaries?"
   ]
  },
  {
   "cell_type": "code",
   "execution_count": 3,
   "id": "bd48ba77",
   "metadata": {},
   "outputs": [
    {
     "name": "stdout",
     "output_type": "stream",
     "text": [
      "{1: 'abhi', 2: 'candy', 4: 'dusk'}\n"
     ]
    }
   ],
   "source": [
    "dict_1 = {1: 'abhi', 2: 'bunty'}\n",
    "dict_2 = {2: 'candy', 4: 'dusk'}\n",
    "\n",
    "print({**dict_1, **dict_2})"
   ]
  },
  {
   "cell_type": "markdown",
   "id": "1ae036b7",
   "metadata": {},
   "source": [
    "#### 4. Write a Python program to convert key-values list to flat dictionary?"
   ]
  },
  {
   "cell_type": "markdown",
   "id": "0ab3f53e",
   "metadata": {},
   "source": [
    "#### 5. Write a Python program to insertion at the beginning in OrderedDict?"
   ]
  },
  {
   "cell_type": "code",
   "execution_count": 4,
   "id": "047042b0",
   "metadata": {},
   "outputs": [
    {
     "name": "stdout",
     "output_type": "stream",
     "text": [
      "dict_one OrderedDict([('Virat Kohli', 'Cricket'), ('Messi', 'Football'), ('Federer', 'Tennis')])\n",
      "\n",
      "dict_one OrderedDict([('Virat Kohli', 'Cricket'), ('Messi', 'Football'), ('Federer', 'Tennis'), ('Mirabai', 'Weightlifting')])\n",
      "\n",
      "dict_one OrderedDict([('Mirabai', 'Weightlifting'), ('Virat Kohli', 'Cricket'), ('Messi', 'Football'), ('Federer', 'Tennis')])\n"
     ]
    }
   ],
   "source": [
    "from collections import OrderedDict\n",
    "dict_one = OrderedDict({'Virat Kohli':'Cricket','Messi':'Football','Federer':'Tennis'})\n",
    "print('dict_one',dict_one)\n",
    "dict_two = {'Mirabai':'Weightlifting'}\n",
    "dict_one.update(dict_two)\n",
    "print('\\ndict_one',dict_one,end='\\n')\n",
    "dict_one.move_to_end('Mirabai',last=False)\n",
    "print('\\ndict_one',dict_one)"
   ]
  },
  {
   "cell_type": "markdown",
   "id": "406cf610",
   "metadata": {},
   "source": [
    "#### 6. Write a Python program to check order of character in string using OrderedDict()?"
   ]
  },
  {
   "cell_type": "code",
   "execution_count": 10,
   "id": "6193a924",
   "metadata": {
    "scrolled": true
   },
   "outputs": [
    {
     "name": "stdout",
     "output_type": "stream",
     "text": [
      "true\n"
     ]
    }
   ],
   "source": [
    "from collections import OrderedDict \n",
    "  \n",
    "def checkOrder(input, pattern): \n",
    "      \n",
    "    \n",
    "    dict = OrderedDict.fromkeys(input) \n",
    "  \n",
    "   \n",
    "    ptrlen = 0\n",
    "    for key,value in dict.items(): \n",
    "        if (key == pattern[ptrlen]): \n",
    "            ptrlen = ptrlen + 1\n",
    "     \n",
    "        if (ptrlen == (len(pattern))): \n",
    "            return 'true'\n",
    "\n",
    "    return 'false'\n",
    "  \n",
    "# Driver program \n",
    "if __name__ == \"__main__\": \n",
    "    input = 'engineers rock'\n",
    "    pattern = 'er'\n",
    "    print (checkOrder(input,pattern)) "
   ]
  },
  {
   "cell_type": "markdown",
   "id": "55e45d8b",
   "metadata": {},
   "source": [
    "#### 7. Write a Python program to sort Python Dictionaries by Key or Value?"
   ]
  },
  {
   "cell_type": "code",
   "execution_count": 11,
   "id": "e3b67403",
   "metadata": {},
   "outputs": [
    {
     "name": "stdout",
     "output_type": "stream",
     "text": [
      "OrderedDict([('rajnish', '9'), ('ravi', '10'), ('sanjeev', '15'), ('suraj', '32'), ('yash', '2')])\n"
     ]
    }
   ],
   "source": [
    "from collections import OrderedDict\n",
    " \n",
    "dict = {'ravi': '10', 'rajnish': '9',\n",
    "        'sanjeev': '15', 'yash': '2', 'suraj': '32'}\n",
    "dict1 = OrderedDict(sorted(dict.items()))\n",
    "print(dict1)"
   ]
  }
 ],
 "metadata": {
  "kernelspec": {
   "display_name": "Python 3",
   "language": "python",
   "name": "python3"
  },
  "language_info": {
   "codemirror_mode": {
    "name": "ipython",
    "version": 3
   },
   "file_extension": ".py",
   "mimetype": "text/x-python",
   "name": "python",
   "nbconvert_exporter": "python",
   "pygments_lexer": "ipython3",
   "version": "3.8.8"
  }
 },
 "nbformat": 4,
 "nbformat_minor": 5
}
