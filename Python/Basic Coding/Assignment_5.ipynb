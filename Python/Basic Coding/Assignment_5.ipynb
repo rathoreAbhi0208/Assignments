{
 "cells": [
  {
   "cell_type": "markdown",
   "id": "0a853655",
   "metadata": {},
   "source": [
    "# Programming  Assignment 5"
   ]
  },
  {
   "cell_type": "markdown",
   "id": "5876573c",
   "metadata": {},
   "source": [
    "SUBMITTED BY : Abhishek Kumar Singh"
   ]
  },
  {
   "cell_type": "markdown",
   "id": "348c6546",
   "metadata": {},
   "source": [
    "#### 1. Write a Python Program to Find LCM?"
   ]
  },
  {
   "cell_type": "code",
   "execution_count": 1,
   "id": "fafdd0b5",
   "metadata": {},
   "outputs": [
    {
     "name": "stdout",
     "output_type": "stream",
     "text": [
      "Enter First : 45\n",
      "Enter Second Number :15\n",
      "LCM of given numbers is: 45\n"
     ]
    }
   ],
   "source": [
    "num1 = int(input('Enter First : '))\n",
    "num2 = int(input('Enter Second Number :'))\n",
    "\n",
    "def compute_lcm(x,y):\n",
    "    if x>y:\n",
    "        greater =x\n",
    "    else:\n",
    "        greater = y\n",
    "        \n",
    "    while(True):\n",
    "        if((greater % x == 0) and (greater % y ==0)):\n",
    "            lcm = greater\n",
    "            break\n",
    "        greater+=1\n",
    "    \n",
    "    return lcm\n",
    "\n",
    "print('LCM of given numbers is:',compute_lcm(num1,num2))"
   ]
  },
  {
   "cell_type": "markdown",
   "id": "c07b6f38",
   "metadata": {},
   "source": [
    "#### 2. Write a Python Program to Find HCF?"
   ]
  },
  {
   "cell_type": "code",
   "execution_count": 2,
   "id": "a0da2b2f",
   "metadata": {},
   "outputs": [
    {
     "name": "stdout",
     "output_type": "stream",
     "text": [
      "Enter Fisrt Number : 39\n",
      "Enter Second Number : 91\n",
      "HCF of given numbers is : 13\n"
     ]
    }
   ],
   "source": [
    "num1 = int(input('Enter Fisrt Number : '))\n",
    "num2 = int(input('Enter Second Number : '))\n",
    "\n",
    "def compute_hcf(x,y):\n",
    "    if x<y:\n",
    "        smaller = x\n",
    "    else:\n",
    "        smaller = y\n",
    "        \n",
    "    while(True):\n",
    "        if((x%smaller==0) and (y%smaller==0)):\n",
    "            hcf = smaller\n",
    "            break\n",
    "        smaller-=1\n",
    "       \n",
    "    return hcf\n",
    "\n",
    "print('HCF of given numbers is :',compute_hcf(num1,num2))"
   ]
  },
  {
   "cell_type": "markdown",
   "id": "9e14911d",
   "metadata": {},
   "source": [
    "#### 3. Write a Python Program to Convert Decimal to Binary, Octal and Hexadecimal?"
   ]
  },
  {
   "cell_type": "code",
   "execution_count": 3,
   "id": "55e0bca5",
   "metadata": {},
   "outputs": [
    {
     "name": "stdout",
     "output_type": "stream",
     "text": [
      "Enter Decimal Number :23\n",
      "Decimal value is :23\n",
      "Binary Equivalent is : 0b10111\n",
      "Octal Equivalent is : 0o27\n",
      "Hexadecimal Equivalent is : 0x17\n"
     ]
    }
   ],
   "source": [
    "def decimal_to_other(n):\n",
    "    print(f'Decimal value is :{num}')\n",
    "    print(f'Binary Equivalent is : {bin(num)}')\n",
    "    print(f'Octal Equivalent is : {oct(num)}')\n",
    "    print(f'Hexadecimal Equivalent is : {hex(num)}')\n",
    "    \n",
    "num = int(input('Enter Decimal Number :'))\n",
    "decimal_to_other(num)\n"
   ]
  },
  {
   "cell_type": "markdown",
   "id": "956a1a59",
   "metadata": {},
   "source": [
    "#### 4. Write a Python Program To Find ASCII value of a character?#### "
   ]
  },
  {
   "cell_type": "code",
   "execution_count": 4,
   "id": "fd9c4438",
   "metadata": {},
   "outputs": [
    {
     "name": "stdout",
     "output_type": "stream",
     "text": [
      "Enter a character :h\n",
      "Ascii Character of h is 104\n"
     ]
    }
   ],
   "source": [
    "def charToAscii(ch):\n",
    "    if len(ch) > 1:\n",
    "        print('Please Enter a Single Character')\n",
    "    else:\n",
    "        print(f'Ascii Character of {ch} is {ord(ch)}')\n",
    "\n",
    "\n",
    "char = input('Enter a character :')\n",
    "charToAscii(char)"
   ]
  },
  {
   "cell_type": "markdown",
   "id": "c7fb7c70",
   "metadata": {},
   "source": [
    "#### 5. Write a Python Program to Make a Simple Calculator with 4 basic mathematical operations?"
   ]
  },
  {
   "cell_type": "code",
   "execution_count": 11,
   "id": "f0c923d2",
   "metadata": {},
   "outputs": [
    {
     "name": "stdout",
     "output_type": "stream",
     "text": [
      "Enter Your Choice         \n",
      "1.Addition(+)         \n",
      "2.Subtraction(-)         \n",
      "3.Multiplication(*)         \n",
      "4.Division(/)         \n",
      "5.stop(0) \n",
      "\n",
      "Enter Operator*\n",
      "Enter First Number :2\n",
      "Enter Second Number :3\n",
      "2.0 * 3.0 = 6.0\n",
      "\n"
     ]
    }
   ],
   "source": [
    "import operator\n",
    "ops = {'+':operator.add,'-':operator.sub,'*':operator.mul,'/':operator.truediv}\n",
    "\n",
    "print('Enter Your Choice \\\n",
    "        \\n1.Addition(+) \\\n",
    "        \\n2.Subtraction(-) \\\n",
    "        \\n3.Multiplication(*) \\\n",
    "        \\n4.Division(/) \\\n",
    "        \\n5.stop(0) \\n')\n",
    "\n",
    "operator = input('Enter Operator')\n",
    "\n",
    "if operator not in ['+','-','*','/']:\n",
    "    print('Enter Valid Operator')\n",
    "        \n",
    "else:\n",
    "    num1 = float(input('Enter First Number :'))\n",
    "    num2 = float(input('Enter Second Number :'))\n",
    "    print(f'{num1} {operator} {num2} = {ops[operator](num1,num2)}\\n')"
   ]
  }
 ],
 "metadata": {
  "kernelspec": {
   "display_name": "Python 3",
   "language": "python",
   "name": "python3"
  },
  "language_info": {
   "codemirror_mode": {
    "name": "ipython",
    "version": 3
   },
   "file_extension": ".py",
   "mimetype": "text/x-python",
   "name": "python",
   "nbconvert_exporter": "python",
   "pygments_lexer": "ipython3",
   "version": "3.8.8"
  }
 },
 "nbformat": 4,
 "nbformat_minor": 5
}
