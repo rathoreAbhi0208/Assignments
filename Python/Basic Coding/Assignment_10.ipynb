{
 "cells": [
  {
   "cell_type": "markdown",
   "id": "dfa3d8c9",
   "metadata": {},
   "source": [
    "# Programming Asssignment 10 "
   ]
  },
  {
   "cell_type": "markdown",
   "id": "c2ffd840",
   "metadata": {},
   "source": [
    "SUBMITTED BY : Abhishek Kumar Singh"
   ]
  },
  {
   "cell_type": "markdown",
   "id": "3087a0a1",
   "metadata": {},
   "source": [
    "#### 1. Write a Python program to find sum of elements in list?"
   ]
  },
  {
   "cell_type": "code",
   "execution_count": 8,
   "id": "77a4ba5f",
   "metadata": {},
   "outputs": [
    {
     "name": "stdout",
     "output_type": "stream",
     "text": [
      "134\n"
     ]
    }
   ],
   "source": [
    "l = [12,21,36,1,9,55]\n",
    "s=0\n",
    "for i in range(0,len(l)):\n",
    "    s=s+l[i]\n",
    "print(s)"
   ]
  },
  {
   "cell_type": "markdown",
   "id": "6354f023",
   "metadata": {},
   "source": [
    "#### 2. Write a Python program to Multiply all numbers in the list?"
   ]
  },
  {
   "cell_type": "code",
   "execution_count": 24,
   "id": "b1bd5831",
   "metadata": {},
   "outputs": [
    {
     "name": "stdout",
     "output_type": "stream",
     "text": [
      "Enter No of Elements :4\n",
      "Please Enter Value of 1 Element :1\n",
      "Please Enter Value of 2 Element :23\n",
      "Please Enter Value of 3 Element :45\n",
      "Please Enter Value of 4 Element :67\n",
      "Product of list elements is 69345\n"
     ]
    }
   ],
   "source": [
    "List=[]\n",
    "no_of_element = int(input('Enter No of Elements :'))\n",
    "for i in range(1,no_of_element+1):\n",
    "    value = int(input('Please Enter Value of %d Element :'%i))\n",
    "    List.append(value)\n",
    "    \n",
    "prod=1\n",
    "for i in range(0,len(List)):\n",
    "    prod=prod*List[i]\n",
    "print(\"Product of list elements is {}\".format(prod))"
   ]
  },
  {
   "cell_type": "markdown",
   "id": "4d6502b3",
   "metadata": {},
   "source": [
    "#### 3. Write a Python program to find smallest number in a list?"
   ]
  },
  {
   "cell_type": "code",
   "execution_count": 29,
   "id": "38b06164",
   "metadata": {},
   "outputs": [
    {
     "name": "stdout",
     "output_type": "stream",
     "text": [
      "Enter No of Elements :5\n",
      "Please Enter Value of 1 Element :32\n",
      "Please Enter Value of 2 Element :12\n",
      "Please Enter Value of 3 Element :11\n",
      "Please Enter Value of 4 Element :25\n",
      "Please Enter Value of 5 Element :10\n",
      "List : [32, 12, 11, 25, 10]\n",
      "Smallest Element is : 10\n"
     ]
    }
   ],
   "source": [
    "List=[]\n",
    "no_of_element = int(input('Enter No of Elements :'))\n",
    "for i in range(1,no_of_element+1):\n",
    "    value = int(input('Please Enter Value of %d Element :'%i))\n",
    "    List.append(value)\n",
    "    \n",
    "print(\"List :\" ,List)\n",
    "List.sort()\n",
    "print('Smallest Element is :',List[0])"
   ]
  },
  {
   "cell_type": "markdown",
   "id": "d8cf2556",
   "metadata": {},
   "source": [
    "#### 4. Write a Python program to find largest number in a list?"
   ]
  },
  {
   "cell_type": "code",
   "execution_count": 30,
   "id": "a1c5da0c",
   "metadata": {},
   "outputs": [
    {
     "name": "stdout",
     "output_type": "stream",
     "text": [
      "Enter No of Elements :5\n",
      "Please Enter Value of 1 Element :21\n",
      "Please Enter Value of 2 Element :555\n",
      "Please Enter Value of 3 Element :2\n",
      "Please Enter Value of 4 Element :16\n",
      "Please Enter Value of 5 Element :78\n",
      "List : [21, 555, 2, 16, 78]\n",
      "Largest Element is : 555\n"
     ]
    }
   ],
   "source": [
    "List=[]\n",
    "no_of_element = int(input('Enter No of Elements :'))\n",
    "for i in range(1,no_of_element+1):\n",
    "    value = int(input('Please Enter Value of %d Element :'%i))\n",
    "    List.append(value)\n",
    "    \n",
    "    \n",
    "print(\"List :\" ,List)\n",
    "List.sort()\n",
    "print(\"Largest Element is :\",List[-1])"
   ]
  },
  {
   "cell_type": "markdown",
   "id": "c6151059",
   "metadata": {},
   "source": [
    "#### 5. Write a Python program to find second largest number in a list?"
   ]
  },
  {
   "cell_type": "code",
   "execution_count": 34,
   "id": "40d84c08",
   "metadata": {},
   "outputs": [
    {
     "name": "stdout",
     "output_type": "stream",
     "text": [
      "Enter No of Elements :5\n",
      "Please Enter Value of 1 Element :12\n",
      "Please Enter Value of 2 Element :99\n",
      "Please Enter Value of 3 Element :78\n",
      "Please Enter Value of 4 Element :34\n",
      "Please Enter Value of 5 Element :55\n",
      "List : [12, 99, 78, 34, 55]\n",
      "Second Largest Element is : 78\n"
     ]
    }
   ],
   "source": [
    "List=[]\n",
    "no_of_element = int(input('Enter No of Elements :'))\n",
    "for i in range(1,no_of_element+1):\n",
    "    value = int(input('Please Enter Value of %d Element :'%i))\n",
    "    List.append(value)\n",
    "    \n",
    "    \n",
    "print(\"List :\" ,List)\n",
    "List.sort()\n",
    "print(\"Second Largest Element is :\",List[-2])"
   ]
  },
  {
   "cell_type": "markdown",
   "id": "b9014c5f",
   "metadata": {},
   "source": [
    "#### 6. Write a Python program to find N largest elements from a list?"
   ]
  },
  {
   "cell_type": "code",
   "execution_count": 35,
   "id": "d9bd8947",
   "metadata": {},
   "outputs": [
    {
     "name": "stdout",
     "output_type": "stream",
     "text": [
      "[85, 41]\n"
     ]
    }
   ],
   "source": [
    "def Nmaxelements(list1, N):\n",
    "    final_list = []\n",
    " \n",
    "    for i in range(0, N):\n",
    "        max1 = 0\n",
    "         \n",
    "        for j in range(len(list1)):    \n",
    "            if list1[j] > max1:\n",
    "                max1 = list1[j];\n",
    "                 \n",
    "        list1.remove(max1);\n",
    "        final_list.append(max1)\n",
    "         \n",
    "    print(final_list)\n",
    " \n",
    "# Driver code\n",
    "list1 = [2, 6, 41, 85, 0, 3, 7, 6, 10]\n",
    "N = 2\n",
    " \n",
    "# Calling the function\n",
    "Nmaxelements(list1, N)"
   ]
  },
  {
   "cell_type": "code",
   "execution_count": 36,
   "id": "41c33ac8",
   "metadata": {},
   "outputs": [
    {
     "name": "stdout",
     "output_type": "stream",
     "text": [
      "[298, 900, 1000, 3579]\n"
     ]
    }
   ],
   "source": [
    "l = [1000,298,3579,100,200,-45,900]\n",
    "n = 4\n",
    " \n",
    "l.sort()\n",
    "print(l[-n:])"
   ]
  },
  {
   "cell_type": "markdown",
   "id": "497c95ec",
   "metadata": {},
   "source": [
    "#### 7. Write a Python program to print even numbers in a list?"
   ]
  },
  {
   "cell_type": "code",
   "execution_count": 38,
   "id": "b3ff79d0",
   "metadata": {},
   "outputs": [
    {
     "name": "stdout",
     "output_type": "stream",
     "text": [
      "Even numbers in the list:  [10, 4, 66]\n"
     ]
    }
   ],
   "source": [
    "list1 = [10, 21, 4, 45, 66, 93]\n",
    " \n",
    "even_nos = [num for num in list1 if num % 2 == 0]\n",
    " \n",
    "print(\"Even numbers in the list: \", even_nos)"
   ]
  },
  {
   "cell_type": "markdown",
   "id": "d0700529",
   "metadata": {},
   "source": [
    "#### 8. Write a Python program to print odd numbers in a List?"
   ]
  },
  {
   "cell_type": "code",
   "execution_count": 41,
   "id": "10786d21",
   "metadata": {},
   "outputs": [
    {
     "name": "stdout",
     "output_type": "stream",
     "text": [
      "Odd numbers in the list:  [21, 45, 93]\n"
     ]
    }
   ],
   "source": [
    "list1 = [10, 21, 4, 45, 66, 93]\n",
    " \n",
    "even_nos = [num for num in list1 if num % 2!= 0]\n",
    " \n",
    "print(\"Odd numbers in the list: \", even_nos)"
   ]
  },
  {
   "cell_type": "markdown",
   "id": "7751a5e0",
   "metadata": {},
   "source": [
    "#### 9. Write a Python program to Remove empty List from List?"
   ]
  },
  {
   "cell_type": "code",
   "execution_count": 42,
   "id": "2564c4df",
   "metadata": {},
   "outputs": [
    {
     "name": "stdout",
     "output_type": "stream",
     "text": [
      "The original list is : [5, 6, [], 3, [], [], 9]\n",
      "List after empty list removal : [5, 6, 3, 9]\n"
     ]
    }
   ],
   "source": [
    "def empty_list_remove(input_list):\n",
    "    new_list = []\n",
    "    for ele in input_list:\n",
    "        if ele:\n",
    "            new_list.append(ele)\n",
    "    return new_list\n",
    " \n",
    " \n",
    "# input list values\n",
    "input_list = [5, 6, [], 3, [], [], 9]\n",
    "\n",
    "print(f\"The original list is : {input_list}\")\n",
    "\n",
    "print(f\"List after empty list removal : {empty_list_remove(input_list)}\")"
   ]
  },
  {
   "cell_type": "markdown",
   "id": "9f74802b",
   "metadata": {},
   "source": [
    "#### 10. Write a Python program to Cloning or Copying a list?"
   ]
  },
  {
   "cell_type": "code",
   "execution_count": 43,
   "id": "b2712e46",
   "metadata": {},
   "outputs": [
    {
     "name": "stdout",
     "output_type": "stream",
     "text": [
      "Original List: [4, 8, 2, 10, 15, 18]\n",
      "After Cloning: [4, 8, 2, 10, 15, 18]\n"
     ]
    }
   ],
   "source": [
    "def Cloning(li1):\n",
    "    li_copy = li1[:]\n",
    "    return li_copy\n",
    " \n",
    " \n",
    "# Driver Code\n",
    "li1 = [4, 8, 2, 10, 15, 18]\n",
    "li2 = Cloning(li1)\n",
    "print(\"Original List:\", li1)\n",
    "print(\"After Cloning:\", li2)"
   ]
  },
  {
   "cell_type": "markdown",
   "id": "71081aab",
   "metadata": {},
   "source": [
    "#### 11. Write a Python program to Count occurrences of an element in a list?"
   ]
  },
  {
   "cell_type": "code",
   "execution_count": 45,
   "id": "a16fa844",
   "metadata": {},
   "outputs": [
    {
     "name": "stdout",
     "output_type": "stream",
     "text": [
      "8 has occurred 5 times\n"
     ]
    }
   ],
   "source": [
    "def count_ele(lst, x):\n",
    "    return lst.count(x)\n",
    " \n",
    " \n",
    "# Driver Code\n",
    "lst = [8, 6, 8, 10, 8, 20, 10, 8, 8]\n",
    "x = 8\n",
    "print('{} has occurred {} times'.format(x,count_ele(lst, x)))"
   ]
  }
 ],
 "metadata": {
  "kernelspec": {
   "display_name": "Python 3",
   "language": "python",
   "name": "python3"
  },
  "language_info": {
   "codemirror_mode": {
    "name": "ipython",
    "version": 3
   },
   "file_extension": ".py",
   "mimetype": "text/x-python",
   "name": "python",
   "nbconvert_exporter": "python",
   "pygments_lexer": "ipython3",
   "version": "3.8.8"
  }
 },
 "nbformat": 4,
 "nbformat_minor": 5
}
