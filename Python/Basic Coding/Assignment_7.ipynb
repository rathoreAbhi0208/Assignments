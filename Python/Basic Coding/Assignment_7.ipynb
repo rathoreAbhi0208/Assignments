{
 "cells": [
  {
   "cell_type": "markdown",
   "id": "6a5d7879",
   "metadata": {},
   "source": [
    "# Programmming Assignment 7"
   ]
  },
  {
   "cell_type": "markdown",
   "id": "ee7c3d9d",
   "metadata": {},
   "source": [
    "Submitted By : Abhishek Kumar Singh"
   ]
  },
  {
   "cell_type": "markdown",
   "id": "d67e3af0",
   "metadata": {},
   "source": [
    "#### 1. Write a Python Program to find sum of array?"
   ]
  },
  {
   "cell_type": "code",
   "execution_count": 1,
   "id": "37195b29",
   "metadata": {},
   "outputs": [],
   "source": [
    "import numpy as np"
   ]
  },
  {
   "cell_type": "code",
   "execution_count": 2,
   "id": "e0d68960",
   "metadata": {},
   "outputs": [
    {
     "name": "stdout",
     "output_type": "stream",
     "text": [
      "15\n"
     ]
    }
   ],
   "source": [
    "ar = np.array([1,2,3,4,5])\n",
    "print(np.sum(ar))"
   ]
  },
  {
   "cell_type": "markdown",
   "id": "5eff6a0e",
   "metadata": {},
   "source": [
    "#### 2. Write a Python Program to find largest element in an array?"
   ]
  },
  {
   "cell_type": "code",
   "execution_count": 10,
   "id": "99e3f75b",
   "metadata": {},
   "outputs": [
    {
     "name": "stdout",
     "output_type": "stream",
     "text": [
      "Enter Size : 3\n",
      "Element :12\n",
      "Element :34\n",
      "Element :56\n",
      "[12, 34, 56]\n",
      "Maximum Element is 56\n"
     ]
    }
   ],
   "source": [
    "size = int(input('Enter Size : '))\n",
    "arr = []\n",
    "for i in range(0,size):\n",
    "    l = int(input('Element :'))\n",
    "    arr.append(l)\n",
    "\n",
    "    \n",
    "print(arr)\n",
    "print('Maximum Element is',np.max(arr))\n"
   ]
  },
  {
   "cell_type": "markdown",
   "id": "2569c607",
   "metadata": {},
   "source": [
    "#### 3. Write a Python Program for array rotation?"
   ]
  },
  {
   "cell_type": "code",
   "execution_count": 18,
   "id": "f1ae4594",
   "metadata": {},
   "outputs": [
    {
     "name": "stdout",
     "output_type": "stream",
     "text": [
      "Rotated list is\n",
      "[3, 4, 5, 6, 1, 2]\n"
     ]
    }
   ],
   "source": [
    "def rot_array(a,d):\n",
    "    n=len(a)\n",
    "    a[:]=a[d:n]+a[0:d]\n",
    "    return a\n",
    "\n",
    "arr = [1, 2, 3, 4, 5, 6]\n",
    "\n",
    "print(\"Rotated list is\")\n",
    "print(rot_array(arr,2)) "
   ]
  },
  {
   "cell_type": "markdown",
   "id": "1b69ba59",
   "metadata": {},
   "source": [
    "#### 4. Write a Python Program to Split the array and add the first part to the end?"
   ]
  },
  {
   "cell_type": "code",
   "execution_count": 21,
   "id": "64e526fc",
   "metadata": {},
   "outputs": [
    {
     "name": "stdout",
     "output_type": "stream",
     "text": [
      "5 6 52 36 12 10 "
     ]
    }
   ],
   "source": [
    " def splitArr(a, n, k): \n",
    "   b = a[:k]\n",
    "   return (a[k::]+b[::])\n",
    "          \n",
    "  \n",
    "\n",
    "arr = [12, 10, 5, 6, 52, 36]\n",
    "n = len(arr)\n",
    "arr = splitArr(arr, n, 2)\n",
    "for i in range(0, n): \n",
    "    print(arr[i], end = ' ')"
   ]
  },
  {
   "cell_type": "markdown",
   "id": "37cf5764",
   "metadata": {},
   "source": [
    "#### 5. Write a Python Program to check if given array is Monotonic?"
   ]
  },
  {
   "cell_type": "code",
   "execution_count": null,
   "id": "d59e943f",
   "metadata": {},
   "outputs": [],
   "source": [
    "def is_Monotonic(A):\n",
    " \n",
    "    return (all(A[i] <= A[i + 1] for i in range(len(A) - 1)) or\n",
    "            all(A[i] >= A[i + 1] for i in range(len(A) - 1)))\n",
    "\n",
    "A = [6, 5, 4, 4]\n",
    "print(is_Monotonic(A))"
   ]
  }
 ],
 "metadata": {
  "kernelspec": {
   "display_name": "Python 3",
   "language": "python",
   "name": "python3"
  },
  "language_info": {
   "codemirror_mode": {
    "name": "ipython",
    "version": 3
   },
   "file_extension": ".py",
   "mimetype": "text/x-python",
   "name": "python",
   "nbconvert_exporter": "python",
   "pygments_lexer": "ipython3",
   "version": "3.8.8"
  }
 },
 "nbformat": 4,
 "nbformat_minor": 5
}
