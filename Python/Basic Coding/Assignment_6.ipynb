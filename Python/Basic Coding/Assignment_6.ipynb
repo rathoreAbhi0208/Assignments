{
 "cells": [
  {
   "cell_type": "markdown",
   "id": "b0604506",
   "metadata": {},
   "source": [
    "# Programming Assignment 6"
   ]
  },
  {
   "cell_type": "markdown",
   "id": "4932eecd",
   "metadata": {},
   "source": [
    "SUBMITTED BY : Abhishek Kumar Singh"
   ]
  },
  {
   "cell_type": "markdown",
   "id": "baad2344",
   "metadata": {},
   "source": [
    "#### 1. Write a Python Program to Display Fibonacci Sequence Using Recursion?"
   ]
  },
  {
   "cell_type": "code",
   "execution_count": 1,
   "id": "0779ef93",
   "metadata": {},
   "outputs": [
    {
     "name": "stdout",
     "output_type": "stream",
     "text": [
      "Enter No of Terms : 9\n",
      "Fibonacci Series :\n",
      "0 1 1 2 3 5 8 13 21 "
     ]
    }
   ],
   "source": [
    "def fib_rec(n):\n",
    "    if n<=1:\n",
    "        return n\n",
    "    else:\n",
    "        return (fib_rec(n-1) + fib_rec(n-2))\n",
    "    \n",
    "\n",
    "terms = int(input('Enter No of Terms : '))\n",
    "if terms<=0:\n",
    "    print('Please Enter Positive Integer')\n",
    "else:\n",
    "    print('Fibonacci Series :')\n",
    "    for i in range(terms):\n",
    "        print(fib_rec(i),end=' ')\n",
    "        \n",
    "        "
   ]
  },
  {
   "cell_type": "code",
   "execution_count": 2,
   "id": "a6c4f142",
   "metadata": {},
   "outputs": [
    {
     "name": "stdout",
     "output_type": "stream",
     "text": [
      "Enter Number :5\n",
      "Factorial of  5 is : 120\n"
     ]
    }
   ],
   "source": [
    "def fact_recur(n):\n",
    "    if n ==1:\n",
    "        return n\n",
    "    else:\n",
    "        return n*fact_recur(n-1)\n",
    "    \n",
    "num = int(input('Enter Number :'))\n",
    "if num<0:\n",
    "    print('Factorial Not Exists')\n",
    "elif num == 0:\n",
    "    print('Factorial of 0 is 1')\n",
    "else:\n",
    "    print('Factorial of ',num,'is :',fact_recur(num))"
   ]
  },
  {
   "cell_type": "markdown",
   "id": "e421ebf4",
   "metadata": {},
   "source": [
    "#### 3. Write a Python Program to calculate your Body Mass Index?"
   ]
  },
  {
   "cell_type": "code",
   "execution_count": 5,
   "id": "6751ef38",
   "metadata": {},
   "outputs": [
    {
     "name": "stdout",
     "output_type": "stream",
     "text": [
      "Enter Wieght in KG :70\n",
      "Enter Height in Metres :1.75\n",
      "Your BMI is  22.857142857142858\n"
     ]
    }
   ],
   "source": [
    "weight = float(input('Enter Wieght in KG :'))\n",
    "height = float(input('Enter Height in Metres :'))\n",
    "\n",
    "def bmi(w,h):\n",
    "    return w/(h**2)\n",
    "\n",
    "print('Your BMI is ',bmi(weight,height))\n"
   ]
  },
  {
   "cell_type": "markdown",
   "id": "66931c79",
   "metadata": {},
   "source": [
    "#### 4. Write a Python Program to calculate the natural logarithm of any number?"
   ]
  },
  {
   "cell_type": "code",
   "execution_count": 8,
   "id": "2c261509",
   "metadata": {},
   "outputs": [
    {
     "name": "stdout",
     "output_type": "stream",
     "text": [
      "Enter Number :2\n"
     ]
    },
    {
     "data": {
      "text/plain": [
       "0.6931471805599453"
      ]
     },
     "execution_count": 8,
     "metadata": {},
     "output_type": "execute_result"
    }
   ],
   "source": [
    "import math\n",
    "\n",
    "def natural_log(n):\n",
    "    return math.log(n)\n",
    "\n",
    "num = int(input('Enter Number :'))\n",
    "natural_log(num)"
   ]
  },
  {
   "cell_type": "markdown",
   "id": "61e64bcf",
   "metadata": {},
   "source": [
    "#### 5. Write a Python Program for cube sum of first n natural numbers?"
   ]
  },
  {
   "cell_type": "code",
   "execution_count": 17,
   "id": "99be6204",
   "metadata": {},
   "outputs": [
    {
     "name": "stdout",
     "output_type": "stream",
     "text": [
      "Enter Number : 4\n",
      "The sum of cubes of first n numbers is : 100.0\n"
     ]
    }
   ],
   "source": [
    "def sum_cubes(n):\n",
    "    s = n*(n+1)/2\n",
    "    return s**2\n",
    "    \n",
    "num = int(input('Enter Number : '))\n",
    "\n",
    "print('The sum of cubes of first n numbers is :',sum_cubes(num))"
   ]
  }
 ],
 "metadata": {
  "kernelspec": {
   "display_name": "Python 3",
   "language": "python",
   "name": "python3"
  },
  "language_info": {
   "codemirror_mode": {
    "name": "ipython",
    "version": 3
   },
   "file_extension": ".py",
   "mimetype": "text/x-python",
   "name": "python",
   "nbconvert_exporter": "python",
   "pygments_lexer": "ipython3",
   "version": "3.8.8"
  }
 },
 "nbformat": 4,
 "nbformat_minor": 5
}
